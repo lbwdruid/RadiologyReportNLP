{
 "cells": [
  {
   "cell_type": "code",
   "execution_count": 6,
   "id": "30bf1192-c453-4a4b-86b4-00be76b41e27",
   "metadata": {},
   "outputs": [
    {
     "name": "stdout",
     "output_type": "stream",
     "text": [
      "Extracted labels: C2, C3, C4, C5, C6, C7, T1, T2, T3, T4, T5, T7, T8, T9, T10, T11, T12, L1, L2, L3, L4, L5, S1, S2, S3\n"
     ]
    }
   ],
   "source": [
    "import re\n",
    "\n",
    "# Define the ordered list of bones\n",
    "bone_list = [\"C1\", \"C2\", \"C3\", \"C4\", \"C5\", \"C6\", \"C7\",\n",
    "             \"T1\", \"T2\", \"T3\", \"T4\", \"T5\", \"T6\", \"T7\", \"T8\", \"T9\", \"T10\", \"T11\", \"T12\",\n",
    "             \"L1\", \"L2\", \"L3\", \"L4\", \"L5\",\n",
    "             \"S1\", \"S2\", \"S3\", \"S4\", \"S5\"]\n",
    "\n",
    "# Map each bone to its index for easy look-up\n",
    "bone_to_index = {bone: idx for idx, bone in enumerate(bone_list)}\n",
    "\n",
    "# Define the report text\n",
    "report = \"Plan to treat C2-T5, and T7-MidS3 disease.\"\n",
    "\n",
    "# Find matches for individual bones and ranges (ignore words like \"Mid\" within ranges)\n",
    "matches = re.findall(r'\\b(C\\d|T\\d{1,2}|L\\d|S\\d)\\b(?:-(?:Mid)?(C\\d|T\\d{1,2}|L\\d|S\\d))?', report)\n",
    "\n",
    "# Extract bones based on the matches\n",
    "extracted_bones = []\n",
    "\n",
    "for match in matches:\n",
    "    start_bone = match[0]\n",
    "    end_bone = match[1] if match[1] else start_bone  # If no range, treat as single bone\n",
    "    \n",
    "    # If it's a range, expand it based on bone order\n",
    "    if start_bone != end_bone:\n",
    "        start_idx = bone_to_index[start_bone]\n",
    "        end_idx = bone_to_index[end_bone]\n",
    "        extracted_bones.extend(bone_list[start_idx:end_idx + 1])\n",
    "    else:\n",
    "        extracted_bones.append(start_bone)\n",
    "\n",
    "# Remove duplicates and keep the bones in order\n",
    "extracted_bones = sorted(set(extracted_bones), key=lambda x: bone_to_index[x])\n",
    "\n",
    "# Print the result as a comma-separated list\n",
    "print(\"Extracted labels:\", ', '.join(extracted_bones))\n"
   ]
  },
  {
   "cell_type": "code",
   "execution_count": null,
   "id": "f646c4f4-70cb-4928-900d-f0be4840ec32",
   "metadata": {},
   "outputs": [],
   "source": []
  }
 ],
 "metadata": {
  "kernelspec": {
   "display_name": "Python 3 (ipykernel)",
   "language": "python",
   "name": "python3"
  },
  "language_info": {
   "codemirror_mode": {
    "name": "ipython",
    "version": 3
   },
   "file_extension": ".py",
   "mimetype": "text/x-python",
   "name": "python",
   "nbconvert_exporter": "python",
   "pygments_lexer": "ipython3",
   "version": "3.10.12"
  }
 },
 "nbformat": 4,
 "nbformat_minor": 5
}
