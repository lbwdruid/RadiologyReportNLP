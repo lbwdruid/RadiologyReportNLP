{
 "cells": [
  {
   "cell_type": "code",
   "execution_count": null,
   "id": "38b075b8-61b8-45e6-81bd-c5cd1325082c",
   "metadata": {},
   "outputs": [],
   "source": [
    "from transformers import AutoTokenizer, AutoModelForCausalLM, pipeline\n",
    "\n",
    "# Load LLaMA model and tokenizer\n",
    "model_id = \"meta-llama/Llama-2-7b-chat-hf\"  # Replace with the LLaMA model you want to use\n",
    "tokenizer = AutoTokenizer.from_pretrained(model_id)\n",
    "model = AutoModelForCausalLM.from_pretrained(model_id)\n",
    "\n",
    "# Initialize the pipeline\n",
    "llm_pipeline = pipeline(\"text-generation\", model=model, tokenizer=tokenizer)\n",
    "\n",
    "# Example prompt (same as your previous project)\n",
    "report = \"Plan to treat C2-T5, and T7-MidT9 disease.\"\n",
    "prompt = f\"\"\"\n",
    "I have a radiology report: \"{report}\"\n",
    "Please extract the spine bone labels mentioned in this report, using only labels from the list:\n",
    "{', '.join([\"C1\", \"C2\", \"C3\", \"C4\", \"C5\", \"C6\", \"C7\", \"T1\", \"T2\", \"T3\", \"T4\", \"T5\", \"T6\", \"T7\", \"T8\", \"T9\", \"T10\", \"T11\", \"T12\", \"L1\", \"L2\", \"L3\", \"L4\", \"L5\", \"S1\", \"S2\", \"S3\", \"S4\", \"S5\"])}. Provide the labels as a comma-separated list without explanations or additional text.\n",
    "\"\"\"\n",
    "\n",
    "# Run the pipeline\n",
    "response = llm_pipeline(prompt, max_length=100, temperature=0.7)\n",
    "generated_text = response[0]['generated_text']\n",
    "\n",
    "# Output the response\n",
    "print(\"Extracted labels:\", generated_text)"
   ]
  }
 ],
 "metadata": {
  "kernelspec": {
   "display_name": "Python 3 (ipykernel)",
   "language": "python",
   "name": "python3"
  },
  "language_info": {
   "codemirror_mode": {
    "name": "ipython",
    "version": 3
   },
   "file_extension": ".py",
   "mimetype": "text/x-python",
   "name": "python",
   "nbconvert_exporter": "python",
   "pygments_lexer": "ipython3",
   "version": "3.10.12"
  }
 },
 "nbformat": 4,
 "nbformat_minor": 5
}
